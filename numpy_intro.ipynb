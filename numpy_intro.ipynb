{
 "cells": [
  {
   "cell_type": "markdown",
   "id": "ccd1b02f",
   "metadata": {},
   "source": [
    "## intro"
   ]
  },
  {
   "cell_type": "code",
   "execution_count": 1,
   "id": "66fb1079",
   "metadata": {},
   "outputs": [],
   "source": [
    "import numpy as np"
   ]
  },
  {
   "cell_type": "code",
   "execution_count": 2,
   "id": "c0f4d4c5",
   "metadata": {},
   "outputs": [
    {
     "name": "stdout",
     "output_type": "stream",
     "text": [
      "[1. 4. 5. 8.]\n"
     ]
    },
    {
     "data": {
      "text/plain": [
       "numpy.float64"
      ]
     },
     "execution_count": 2,
     "metadata": {},
     "output_type": "execute_result"
    }
   ],
   "source": [
    "test_array=np.array([1,4,5,8],float)\n",
    "print(test_array)\n",
    "type(test_array[3])"
   ]
  },
  {
   "cell_type": "code",
   "execution_count": 3,
   "id": "f400b242",
   "metadata": {},
   "outputs": [
    {
     "data": {
      "text/plain": [
       "array([1., 4., 5., 8.])"
      ]
     },
     "execution_count": 3,
     "metadata": {},
     "output_type": "execute_result"
    }
   ],
   "source": [
    "test_array"
   ]
  },
  {
   "cell_type": "code",
   "execution_count": 4,
   "id": "dbc18140",
   "metadata": {},
   "outputs": [
    {
     "data": {
      "text/plain": [
       "'\\n파이썬 >> dynamic typing >> 실행 시점에 데이터 타입을 결정함\\n>> 하나의 리스트에 다양한 데이터 타입이 들어갈 수 있음\\n\\n반면, numpy는 이런 것을 허락하지 않음.(하나의 데이터 타입만 배열에 넣을 수 있음)\\narray의 []내부에 int, str 타입의 데이터를 넣었지만,\\n뒤에 array의 타입을 float으로 정했기 때문에 모든 데이터 타입이 float으로 바뀜.\\n\\n'"
      ]
     },
     "execution_count": 4,
     "metadata": {},
     "output_type": "execute_result"
    }
   ],
   "source": [
    "test_array2 = np.array([\"1\", 4, \"5\", 8],float)\n",
    "test_array2\n",
    "'''\n",
    "파이썬 >> dynamic typing >> 실행 시점에 데이터 타입을 결정함\n",
    ">> 하나의 리스트에 다양한 데이터 타입이 들어갈 수 있음\n",
    "\n",
    "반면, numpy는 이런 것을 허락하지 않음.(하나의 데이터 타입만 배열에 넣을 수 있음)\n",
    "array의 []내부에 int, str 타입의 데이터를 넣었지만,\n",
    "뒤에 array의 타입을 float으로 정했기 때문에 모든 데이터 타입이 float으로 바뀜.\n",
    "\n",
    "'''"
   ]
  },
  {
   "cell_type": "code",
   "execution_count": 5,
   "id": "f494948e",
   "metadata": {},
   "outputs": [
    {
     "name": "stdout",
     "output_type": "stream",
     "text": [
      "<class 'numpy.float64'>\n"
     ]
    },
    {
     "data": {
      "text/plain": [
       "'\\nfloat64의 64는 데이터의 메모리 공간의 크기를 의미함.\\nfloat32의 경우 32bit=4byte의 메모리 공간을 가짐.\\ntest_array2의 경우 64bit=8byte의 메모리 공간을 차지하는 데이터가 4개 있으므로\\n 총 32byte 공간을 차지함.\\n'"
      ]
     },
     "execution_count": 5,
     "metadata": {},
     "output_type": "execute_result"
    }
   ],
   "source": [
    "print(type(test_array2[2]))\n",
    "'''\n",
    "float64의 64는 데이터의 메모리 공간의 크기를 의미함.\n",
    "float32의 경우 32bit=4byte의 메모리 공간을 가짐.\n",
    "test_array2의 경우 64bit=8byte의 메모리 공간을 차지하는 데이터가 4개 있으므로\n",
    " 총 32byte 공간을 차지함.\n",
    "'''"
   ]
  },
  {
   "cell_type": "code",
   "execution_count": 6,
   "id": "25aa69fc",
   "metadata": {},
   "outputs": [],
   "source": [
    "test_array3 = np.array([\"1\", 4, \"5\", 8],np.float32)"
   ]
  },
  {
   "cell_type": "code",
   "execution_count": 7,
   "id": "04d7a7fa",
   "metadata": {},
   "outputs": [
    {
     "data": {
      "text/plain": [
       "dtype('float32')"
      ]
     },
     "execution_count": 7,
     "metadata": {},
     "output_type": "execute_result"
    }
   ],
   "source": [
    "test_array3.dtype"
   ]
  },
  {
   "cell_type": "code",
   "execution_count": 8,
   "id": "39826c9e",
   "metadata": {},
   "outputs": [
    {
     "data": {
      "text/plain": [
       "dtype('float64')"
      ]
     },
     "execution_count": 8,
     "metadata": {},
     "output_type": "execute_result"
    }
   ],
   "source": [
    "test_array.dtype"
   ]
  },
  {
   "cell_type": "code",
   "execution_count": 9,
   "id": "cc83a47c",
   "metadata": {},
   "outputs": [
    {
     "data": {
      "text/plain": [
       "(4,)"
      ]
     },
     "execution_count": 9,
     "metadata": {},
     "output_type": "execute_result"
    }
   ],
   "source": [
    "test_array.shape  # Array의 shape을 반환함 (1차원 배열의 경우 1개 원소를 가진 튜플형식으로 표현됨)"
   ]
  },
  {
   "cell_type": "code",
   "execution_count": 10,
   "id": "5f5ef4d4",
   "metadata": {},
   "outputs": [],
   "source": [
    "test_array_1=np.array([[1,4,5,8]],float)"
   ]
  },
  {
   "cell_type": "code",
   "execution_count": 11,
   "id": "17c7020e",
   "metadata": {},
   "outputs": [
    {
     "data": {
      "text/plain": [
       "(1, 4)"
      ]
     },
     "execution_count": 11,
     "metadata": {},
     "output_type": "execute_result"
    }
   ],
   "source": [
    "test_array_1.shape # [[]]은 2차원 배열이므로 (행,열)형태로 계산됨"
   ]
  },
  {
   "cell_type": "code",
   "execution_count": 12,
   "id": "0b6a8bb1",
   "metadata": {},
   "outputs": [
    {
     "data": {
      "text/plain": [
       "dtype('float64')"
      ]
     },
     "execution_count": 12,
     "metadata": {},
     "output_type": "execute_result"
    }
   ],
   "source": [
    "test_array_1.dtype"
   ]
  },
  {
   "cell_type": "code",
   "execution_count": 13,
   "id": "4f3820c9",
   "metadata": {},
   "outputs": [],
   "source": [
    "test_array4=np.array([[[1,4,5,8],[0, 0 ,0, 0]],[[1,4,5,8],[0, 0, 0, 0]],[[1,4,5,8],[0, 0 ,0, 0]],[[1,4,5,8],[0, 0, 0, 0]]],float)"
   ]
  },
  {
   "cell_type": "code",
   "execution_count": 14,
   "id": "d994e0de",
   "metadata": {},
   "outputs": [
    {
     "name": "stdout",
     "output_type": "stream",
     "text": [
      "[[[1. 4. 5. 8.]\n",
      "  [0. 0. 0. 0.]]\n",
      "\n",
      " [[1. 4. 5. 8.]\n",
      "  [0. 0. 0. 0.]]\n",
      "\n",
      " [[1. 4. 5. 8.]\n",
      "  [0. 0. 0. 0.]]\n",
      "\n",
      " [[1. 4. 5. 8.]\n",
      "  [0. 0. 0. 0.]]]\n"
     ]
    },
    {
     "data": {
      "text/plain": [
       "(4, 2, 4)"
      ]
     },
     "execution_count": 14,
     "metadata": {},
     "output_type": "execute_result"
    }
   ],
   "source": [
    "print(test_array4)\n",
    "test_array4.shape  # 3차원 배열의 경우 (깊이, 행, 열) 순으로 표현됨\n",
    "\n",
    "# 4차원 배열을 입력한다면 새로운 변수는 앞자리에 추가됨 (NEW ,깊이, 행, 열)\n",
    "# 5차원 이상도 마찬가지."
   ]
  },
  {
   "cell_type": "code",
   "execution_count": 15,
   "id": "6a5d1faf",
   "metadata": {},
   "outputs": [
    {
     "data": {
      "text/plain": [
       "3"
      ]
     },
     "execution_count": 15,
     "metadata": {},
     "output_type": "execute_result"
    }
   ],
   "source": [
    "test_array4.ndim # 텐서의 차원을 구함. 3차원."
   ]
  },
  {
   "cell_type": "code",
   "execution_count": 16,
   "id": "cc1aeda7",
   "metadata": {
    "scrolled": true
   },
   "outputs": [
    {
     "data": {
      "text/plain": [
       "32"
      ]
     },
     "execution_count": 16,
     "metadata": {},
     "output_type": "execute_result"
    }
   ],
   "source": [
    "test_array4.size # 텐서의 크기를 구함. 4*2*4=32개의 원소를 가지고 있음."
   ]
  },
  {
   "cell_type": "markdown",
   "id": "416b6bad",
   "metadata": {},
   "source": [
    "## reshape"
   ]
  },
  {
   "cell_type": "code",
   "execution_count": 17,
   "id": "ab4cde04",
   "metadata": {
    "scrolled": true
   },
   "outputs": [
    {
     "data": {
      "text/plain": [
       "(2, 4)"
      ]
     },
     "execution_count": 17,
     "metadata": {},
     "output_type": "execute_result"
    }
   ],
   "source": [
    "# 주로 백터를 행렬형태로 바꿀 때 사용함.\n",
    "test_matrix = [[1,2,3,4],[5,6,7,8]]\n",
    "np.array(test_matrix).shape"
   ]
  },
  {
   "cell_type": "code",
   "execution_count": 18,
   "id": "d824d604",
   "metadata": {},
   "outputs": [
    {
     "data": {
      "text/plain": [
       "array([[[1, 2],\n",
       "        [3, 4]],\n",
       "\n",
       "       [[5, 6],\n",
       "        [7, 8]]])"
      ]
     },
     "execution_count": 18,
     "metadata": {},
     "output_type": "execute_result"
    }
   ],
   "source": [
    "np.array(test_matrix).reshape(2,2,2) # 2*4 = 2*2*2 = 8"
   ]
  },
  {
   "cell_type": "code",
   "execution_count": 19,
   "id": "b26b1396",
   "metadata": {},
   "outputs": [
    {
     "data": {
      "text/plain": [
       "(8,)"
      ]
     },
     "execution_count": 19,
     "metadata": {},
     "output_type": "execute_result"
    }
   ],
   "source": [
    "np.array(test_matrix).reshape(8).shape"
   ]
  },
  {
   "cell_type": "code",
   "execution_count": 20,
   "id": "716bcace",
   "metadata": {},
   "outputs": [
    {
     "data": {
      "text/plain": [
       "(4, 2)"
      ]
     },
     "execution_count": 20,
     "metadata": {},
     "output_type": "execute_result"
    }
   ],
   "source": [
    "np.array(test_matrix).reshape(-1,2).shape # size 기반으로 row 개수 선정.\n",
    "# 행은 몇인지 정확히 모르지만 열은 2열로 고정하고 싶을 때 사용하면 알아서 반환해줌."
   ]
  },
  {
   "cell_type": "markdown",
   "id": "806cb873",
   "metadata": {},
   "source": [
    "## flatten\n",
    "##### 다차원 array를 1차원 array로 변환"
   ]
  },
  {
   "cell_type": "code",
   "execution_count": 21,
   "id": "117290cd",
   "metadata": {},
   "outputs": [],
   "source": [
    "F_array=np.array(test_matrix, int).flatten()"
   ]
  },
  {
   "cell_type": "code",
   "execution_count": 22,
   "id": "6549f659",
   "metadata": {},
   "outputs": [
    {
     "data": {
      "text/plain": [
       "array([1, 2, 3, 4, 5, 6, 7, 8])"
      ]
     },
     "execution_count": 22,
     "metadata": {},
     "output_type": "execute_result"
    }
   ],
   "source": [
    "F_array"
   ]
  },
  {
   "cell_type": "markdown",
   "id": "9d950298",
   "metadata": {},
   "source": [
    "## indexing\n",
    "##### 이차원 배열에서 [0,0] 과 같은 표기법을 제공."
   ]
  },
  {
   "cell_type": "code",
   "execution_count": 23,
   "id": "094dd83d",
   "metadata": {},
   "outputs": [
    {
     "name": "stdout",
     "output_type": "stream",
     "text": [
      "[[1 3 5]\n",
      " [2 4 6]]\n",
      "5\n",
      "5\n"
     ]
    }
   ],
   "source": [
    "a= np.array([[1,3,5],[2,4,6]],int)\n",
    "print(a)\n",
    "print(a[0,2])\n",
    "print(a[0][2])"
   ]
  },
  {
   "cell_type": "markdown",
   "id": "04845692",
   "metadata": {},
   "source": [
    "## slicing\n",
    "##### List와 달리 행과 열 부분을 나눠서 slicing이 가능함"
   ]
  },
  {
   "cell_type": "code",
   "execution_count": 24,
   "id": "265c2273",
   "metadata": {},
   "outputs": [
    {
     "data": {
      "text/plain": [
       "array([[1, 2, 5, 8],\n",
       "       [1, 2, 5, 8]])"
      ]
     },
     "execution_count": 24,
     "metadata": {},
     "output_type": "execute_result"
    }
   ],
   "source": [
    "# 행렬의 부분집합을 추출할 때 유용하게 사용된다.\n",
    "test_exmaple = np.array([\n",
    "    [1, 2, 5,8], [1, 2, 5,8],[1, 2, 5,8],[1, 2, 5,8]], int)\n",
    "test_exmaple[:2,:]"
   ]
  },
  {
   "cell_type": "code",
   "execution_count": 25,
   "id": "183bf40e",
   "metadata": {},
   "outputs": [
    {
     "data": {
      "text/plain": [
       "array([[2, 5],\n",
       "       [2, 5],\n",
       "       [2, 5],\n",
       "       [2, 5]])"
      ]
     },
     "execution_count": 25,
     "metadata": {},
     "output_type": "execute_result"
    }
   ],
   "source": [
    "test_exmaple[:,1:3] "
   ]
  },
  {
   "cell_type": "code",
   "execution_count": 26,
   "id": "96363413",
   "metadata": {},
   "outputs": [
    {
     "data": {
      "text/plain": [
       "array([1, 2])"
      ]
     },
     "execution_count": 26,
     "metadata": {},
     "output_type": "execute_result"
    }
   ],
   "source": [
    "test_exmaple[1,:2]"
   ]
  },
  {
   "cell_type": "code",
   "execution_count": 27,
   "id": "9847abc5",
   "metadata": {},
   "outputs": [
    {
     "data": {
      "text/plain": [
       "array([[ 3,  4,  5],\n",
       "       [ 8,  9, 10]])"
      ]
     },
     "execution_count": 27,
     "metadata": {},
     "output_type": "execute_result"
    }
   ],
   "source": [
    "test_exmaple = np.array([[1, 2, 3, 4, 5], [6, 7, 8, 9, 10]], int)\n",
    "test_exmaple[:,2:] # 전체 Row의 2열 이상"
   ]
  },
  {
   "cell_type": "code",
   "execution_count": 28,
   "id": "2fad14b7",
   "metadata": {},
   "outputs": [
    {
     "data": {
      "text/plain": [
       "array([7, 8])"
      ]
     },
     "execution_count": 28,
     "metadata": {},
     "output_type": "execute_result"
    }
   ],
   "source": [
    "test_exmaple[1,1:3] # 1 Row의 1열 ~ 2열"
   ]
  },
  {
   "cell_type": "code",
   "execution_count": 29,
   "id": "6681a281",
   "metadata": {},
   "outputs": [
    {
     "data": {
      "text/plain": [
       "array([[ 6,  7,  8,  9, 10]])"
      ]
     },
     "execution_count": 29,
     "metadata": {},
     "output_type": "execute_result"
    }
   ],
   "source": [
    "test_exmaple[1:3] # 1 Row ~ 2Row의 전체"
   ]
  },
  {
   "cell_type": "code",
   "execution_count": 30,
   "id": "33bee3ed",
   "metadata": {},
   "outputs": [
    {
     "data": {
      "text/plain": [
       "array([[ 9],\n",
       "       [19],\n",
       "       [29],\n",
       "       [39],\n",
       "       [49],\n",
       "       [59],\n",
       "       [69],\n",
       "       [79],\n",
       "       [89],\n",
       "       [99]])"
      ]
     },
     "execution_count": 30,
     "metadata": {},
     "output_type": "execute_result"
    }
   ],
   "source": [
    "a = np.arange(100).reshape(10,10)\n",
    "a[:, -1].reshape(-1,1)"
   ]
  },
  {
   "cell_type": "code",
   "execution_count": null,
   "id": "3f75f76d",
   "metadata": {},
   "outputs": [],
   "source": []
  },
  {
   "cell_type": "code",
   "execution_count": null,
   "id": "d9b296c6",
   "metadata": {},
   "outputs": [],
   "source": []
  }
 ],
 "metadata": {
  "kernelspec": {
   "display_name": "Python 3",
   "language": "python",
   "name": "python3"
  },
  "language_info": {
   "codemirror_mode": {
    "name": "ipython",
    "version": 3
   },
   "file_extension": ".py",
   "mimetype": "text/x-python",
   "name": "python",
   "nbconvert_exporter": "python",
   "pygments_lexer": "ipython3",
   "version": "3.8.8"
  }
 },
 "nbformat": 4,
 "nbformat_minor": 5
}
